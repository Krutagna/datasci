{
 "cells": [
  {
   "cell_type": "code",
   "execution_count": 9,
   "metadata": {},
   "outputs": [],
   "source": [
    "import pandas as pd\n",
    "import seaborn as sns\n",
    "import numpy as np\n",
    "import matplotlib.pyplot as plt\n",
    "\n",
    "df = pd.read_excel('TERMS_FullTimeSince2005.xlsx', sheet_name='TERMS')"
   ]
  },
  {
   "cell_type": "code",
   "execution_count": null,
   "metadata": {},
   "outputs": [
    {
     "data": {
      "text/plain": [
       "Elimination of Position           3341\n",
       "Mutual Consent                     866\n",
       "Violation Of Policy                700\n",
       "Other                              537\n",
       "Unsatisfactory Performance         480\n",
       "Unavail for Wrk/Job Abandonmnt     424\n",
       "Attendance                         384\n",
       "Unable to Meet Job Requirement     331\n",
       "Unable To Meet Job Requirement     228\n",
       "Misconduct                         177\n",
       "Failure to Report w/o Notice       149\n",
       "Transition Assistance              148\n",
       "Unable To Return From Disablty     138\n",
       "Poor Or Improper Conduct           119\n",
       "Theft                              109\n",
       "Lack of Work/Layoff                 94\n",
       "Do Not Contest                      65\n",
       "Discharge                           64\n",
       "Unwilling to Meet Requirements      43\n",
       "Tardiness                           38\n",
       "Insubordination                     31\n",
       "Misstatement on Application         13\n",
       "Pending Signed Agreement            12\n",
       "Reorganization                      10\n",
       "Job Related, Medical                 8\n",
       "Poor Interpersonal Skills            6\n",
       "End Temporary Employment             4\n",
       "Transfered Out Of Country            3\n",
       "Name: ACTION_REASON_DESCR, dtype: int64"
      ]
     },
     "execution_count": 10,
     "metadata": {},
     "output_type": "execute_result"
    }
   ],
   "source": [
    "invol = df['REASON2'] == \"INVOL\"\n",
    "df[invol]['ACTION_REASON_DESCR'].value_counts()"
   ]
  },
  {
   "cell_type": "code",
   "execution_count": null,
   "metadata": {},
   "outputs": [],
   "source": [
    "fig, ax = plt.subplots(figsize=(20,10))\n",
    "sns.boxplot(x = df[invol]['ANNUAL_RT'], y = df[invol]['SERVICE_YRS'])"
   ]
  },
  {
   "cell_type": "code",
   "execution_count": null,
   "metadata": {},
   "outputs": [],
   "source": []
  }
 ],
 "metadata": {
  "kernelspec": {
   "display_name": "Python 3",
   "language": "python",
   "name": "python3"
  },
  "language_info": {
   "codemirror_mode": {
    "name": "ipython",
    "version": 3
   },
   "file_extension": ".py",
   "mimetype": "text/x-python",
   "name": "python",
   "nbconvert_exporter": "python",
   "pygments_lexer": "ipython3",
   "version": "3.6.4"
  }
 },
 "nbformat": 4,
 "nbformat_minor": 2
}
